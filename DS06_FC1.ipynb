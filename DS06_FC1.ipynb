{
  "nbformat": 4,
  "nbformat_minor": 0,
  "metadata": {
    "colab": {
      "provenance": []
    },
    "kernelspec": {
      "name": "python3",
      "display_name": "Python 3"
    },
    "language_info": {
      "name": "python"
    }
  },
  "cells": [
    {
      "cell_type": "code",
      "execution_count": null,
      "metadata": {
        "id": "w0pRf36a1Z4x"
      },
      "outputs": [],
      "source": []
    },
    {
      "cell_type": "markdown",
      "source": [
        "AI - BIG UMBRELLA\n",
        "ML - SUBSET OF AI\n",
        "DL SUBSET OF ML\n",
        "GEN AI SUBSET OF DL  "
      ],
      "metadata": {
        "id": "BYFdiaFp7R94"
      }
    },
    {
      "cell_type": "markdown",
      "source": [
        "AI -\n",
        "\n",
        "\n",
        "NLP ( natural language processing )\n",
        "1. talk - speech\n",
        "2. hear - speech ( siri, alaexa )\n",
        "\n",
        "Computer vision\n",
        "3. see - vision"
      ],
      "metadata": {
        "id": "xzWhQb4A7SEu"
      }
    },
    {
      "cell_type": "markdown",
      "source": [
        "Topic 1: Introduction to Machine Learning.\n",
        "Topic 2: Introduction to Deep Learning\n",
        "Topic 3: Deep Neural Networks basics\n",
        "Topic 4: Convolutional Neural Networks"
      ],
      "metadata": {
        "id": "FO-umNml-kWS"
      }
    },
    {
      "cell_type": "markdown",
      "source": [
        "Topic 1: Introduction to Machine Learning.\n",
        "\n",
        "end to end cycle\n",
        "\n",
        "case study application1 of learner who to take the course  \n",
        "\n",
        " 1. learner comes to take the course with his profile\n",
        " 2. the profile has to be evalauted (AE) for academics,\n",
        "     other related etc age, work, exp, topic\n",
        "     the evaluation must be classifying the learner\n",
        "      whether to take the course or not ( Classification algorithms)\n",
        "  3. if the condition is YES , how much percentage %\n",
        "     or probability  % the learner can achieve ( regression algorithm)\n",
        "  4. if the % achived is > 70%\n",
        "       then can be considered for placements ,\n",
        "         whether learner can be placed or not( classification)\n",
        "          if YES how much probability % ( regression )  "
      ],
      "metadata": {
        "id": "krjIWbpA-qBm"
      }
    },
    {
      "cell_type": "markdown",
      "source": [
        "case study application 2\n",
        "doctor to analyse the chest x ray to detect Tb/pneumonia\n",
        "\n",
        "\n",
        "\n",
        "detect whether customer got TB or not ( classification )\n",
        "\n",
        "but to go deeper and to get accurate results we use\n",
        "\n",
        "DEEP LEARNING\n",
        "1. If the same image processing x ray detection is to be done\n",
        "  in DL , DL model automatically learn from the data instead of\n",
        "  manually defining features , system identifies patterns directly\n",
        "  from the pixel values of the X-ray images\n",
        "  inspiration from brain\n",
        "  1. ANN( arificial neural network) has many layers\n",
        "     interconencted to NODES/ NEURONS\n",
        "     1.1. EACH NEURON ,has all the process\n",
        "      ( takes input data/ layer , processed data in one neuron( u may have many neuron in one layer)\n",
        "      1.2 and gives the output data to next layer( hidden layer )\n",
        "       the more deeper we go , the more layers( hidden layers )\n",
        "      1.3 backward propogation ( make sure to adjust the wieghts, biases and then reprocess it so tht , the accuracy increases, loss decreases\n",
        "      \n",
        "\n",
        "      eg cycle of the Puenomia detection / TB\n",
        "      1. data input ( x ray images, preprocessed( normalised)\n",
        "          before its used in the model\n",
        "      2. feature learning ( automatic feature enginerring /feature extraction)\n",
        "      3. by apply filters to the input of CNN to figure out feature extraction\n",
        "      for images ,\n",
        "      4. Pooling layers to   reduce the spatial dimension of extracted\n",
        "           features  , so tht computatinal load is decreased\n",
        "      4. the best NN is CNN( convolutional Neural networks)\n",
        "    how in CNN\n",
        "      1. Input from image to CNN( input layer )\n",
        "      2. the convoultional layeers( hidden layers) , they take the input\n",
        "          from     the image , use filters, function relu , and apply activation function to reduce the loss and increase the accuracy\n",
        "      3. pooling: pooling layer , simplify the output\n",
        "      by reducing the dimensionality ( dimensinality reduction)\n",
        "      reducing the number of features)\n",
        "      4. flattening : after many convolutional layers , pooling layers ,\n",
        "         the output is flattend into a vector , and passes\n",
        "         to other layers\n",
        "        5. output layer - generaally called softmax\n",
        "        gives output of different classes probability\n",
        "\n",
        "\n",
        "        important to learn in CNN\n",
        "\n",
        "        1. convolutional layers (applying filters to the input with all edges)\n",
        "        2. relu - rectified linear unit layer\n",
        "        3. pooling layers - reducing spatial dimesion(max ppoling)\n",
        "        4. fully connectd layers  \n",
        "\n",
        "\n",
        "\n"
      ],
      "metadata": {
        "id": "Son_v0lT-qkN"
      }
    },
    {
      "cell_type": "code",
      "source": [
        "#mnist\n",
        "import tensorflow as tf\n",
        "from tensorflow.keras.datasets import mnist, imdb\n",
        "from tensorflow.keras.models import Sequential\n",
        "( train_images, train_labels) , (test_images, test_labels) =  mnist.load_data()"
      ],
      "metadata": {
        "id": "kr26A49vKo-Y"
      },
      "execution_count": 51,
      "outputs": []
    },
    {
      "cell_type": "code",
      "source": [
        "( train_images, train_labels) , (test_images, test_labels) =  mnist.load_data()"
      ],
      "metadata": {
        "id": "rFEHDSocdSi1"
      },
      "execution_count": null,
      "outputs": []
    },
    {
      "cell_type": "code",
      "source": [
        "#normalise the images\n",
        "train_images = ( train_images / 255 ) - 0.5\n",
        "test_images = ( test_images / 255 ) - 0.5"
      ],
      "metadata": {
        "id": "CjI27ojXKqlc"
      },
      "execution_count": 20,
      "outputs": []
    },
    {
      "cell_type": "code",
      "source": [
        "train_images.shape"
      ],
      "metadata": {
        "colab": {
          "base_uri": "https://localhost:8080/"
        },
        "id": "C7hjeWTZNEyN",
        "outputId": "00e4b938-cbf2-434d-de4e-0c516bf29184"
      },
      "execution_count": 21,
      "outputs": [
        {
          "output_type": "execute_result",
          "data": {
            "text/plain": [
              "(60000, 28, 28)"
            ]
          },
          "metadata": {},
          "execution_count": 21
        }
      ]
    },
    {
      "cell_type": "code",
      "source": [
        "#flaten\n",
        "train_images = train_images.reshape((-1, 784))\n",
        "test_images = test_images.reshape((-1, 784))"
      ],
      "metadata": {
        "id": "OD6E5z1xKqsC"
      },
      "execution_count": 22,
      "outputs": []
    },
    {
      "cell_type": "code",
      "source": [
        "#one hot encoding\n",
        "from tensorflow.keras.utils import to_categorical\n",
        "train_labels = to_categorical(train_labels )\n",
        "test_labels = to_categorical(test_labels )"
      ],
      "metadata": {
        "id": "hZ-I3JOXKqu4"
      },
      "execution_count": 23,
      "outputs": []
    },
    {
      "cell_type": "code",
      "source": [
        "#build model\n",
        "from tensorflow.keras.layers import Dense, Flatten\n",
        "model = Sequential(\n",
        "    [\n",
        "       Flatten( input_shape=(28*28,) ),\n",
        "       Dense(64, activation ='relu'),\n",
        "       Dense(10, activation ='softmax'),\n",
        "     ]\n",
        ")"
      ],
      "metadata": {
        "id": "OMgjRZs0Kqxo"
      },
      "execution_count": 24,
      "outputs": []
    },
    {
      "cell_type": "code",
      "source": [],
      "metadata": {
        "id": "HjJj1GG7PAWn"
      },
      "execution_count": 8,
      "outputs": []
    },
    {
      "cell_type": "code",
      "source": [
        "#compile model\n",
        "model.compile(optimizer = 'adam',\n",
        "              loss = 'categorical_crossentropy',\n",
        "              metrics = ['accuracy'],)"
      ],
      "metadata": {
        "id": "eLmH8rztKq0O"
      },
      "execution_count": 25,
      "outputs": []
    },
    {
      "cell_type": "code",
      "source": [
        "# traina nd fit the model\n",
        "\n",
        "model.fit(\n",
        "\n",
        "          train_images, train_labels,\n",
        "          epochs = 5 ,\n",
        "          batch_size = 32,\n",
        ")"
      ],
      "metadata": {
        "colab": {
          "base_uri": "https://localhost:8080/"
        },
        "id": "R4_-gEq5Kq2X",
        "outputId": "078f7ed2-b005-4768-8cdf-68231101a0bc"
      },
      "execution_count": 26,
      "outputs": [
        {
          "output_type": "stream",
          "name": "stdout",
          "text": [
            "Epoch 1/5\n",
            "1875/1875 [==============================] - 6s 3ms/step - loss: 0.3916 - accuracy: 0.8848\n",
            "Epoch 2/5\n",
            "1875/1875 [==============================] - 4s 2ms/step - loss: 0.2179 - accuracy: 0.9356\n",
            "Epoch 3/5\n",
            "1875/1875 [==============================] - 4s 2ms/step - loss: 0.1710 - accuracy: 0.9491\n",
            "Epoch 4/5\n",
            "1875/1875 [==============================] - 6s 3ms/step - loss: 0.1413 - accuracy: 0.9574\n",
            "Epoch 5/5\n",
            "1875/1875 [==============================] - 4s 2ms/step - loss: 0.1247 - accuracy: 0.9627\n"
          ]
        },
        {
          "output_type": "execute_result",
          "data": {
            "text/plain": [
              "<keras.src.callbacks.History at 0x7ac7a7752cb0>"
            ]
          },
          "metadata": {},
          "execution_count": 26
        }
      ]
    },
    {
      "cell_type": "code",
      "source": [
        "#evalute model\n",
        "model.evaluate(test_images,\n",
        "               test_labels )"
      ],
      "metadata": {
        "colab": {
          "base_uri": "https://localhost:8080/"
        },
        "id": "Km2lb8ibPss4",
        "outputId": "bf4085bf-3b79-4c51-d1c0-0b0db6e04bcc"
      },
      "execution_count": 27,
      "outputs": [
        {
          "output_type": "stream",
          "name": "stdout",
          "text": [
            "313/313 [==============================] - 1s 2ms/step - loss: 0.1379 - accuracy: 0.9571\n"
          ]
        },
        {
          "output_type": "execute_result",
          "data": {
            "text/plain": [
              "[0.1379045844078064, 0.957099974155426]"
            ]
          },
          "metadata": {},
          "execution_count": 27
        }
      ]
    },
    {
      "cell_type": "code",
      "source": [
        "#CNN\n",
        " ( x_train, y_train) , (x_test, y_test) =  mnist.load_data()"
      ],
      "metadata": {
        "id": "QCGl7Ur9Zx1m"
      },
      "execution_count": 35,
      "outputs": []
    },
    {
      "cell_type": "code",
      "source": [
        "#normalise the images only 01,1\n",
        "x_train = ( x_train / 255 )\n",
        "x_test = ( x_test / 255 )"
      ],
      "metadata": {
        "id": "ceo88nGkZ2Pa"
      },
      "execution_count": 36,
      "outputs": []
    },
    {
      "cell_type": "code",
      "source": [
        "x_train.shape"
      ],
      "metadata": {
        "colab": {
          "base_uri": "https://localhost:8080/"
        },
        "id": "SS8IvOEVaes7",
        "outputId": "2d2f63a4-54f4-4ef5-f4ab-bca090cf0a90"
      },
      "execution_count": 41,
      "outputs": [
        {
          "output_type": "execute_result",
          "data": {
            "text/plain": [
              "(60000, 28, 28)"
            ]
          },
          "metadata": {},
          "execution_count": 41
        }
      ]
    },
    {
      "cell_type": "code",
      "source": [
        "#flaten to single channel\n",
        "x_train = x_train.reshape(( x_train.shape[0], 28,28,1))\n",
        "x_test = x_test.reshape((x_test.shape[0], 28,28,1) )"
      ],
      "metadata": {
        "id": "MIu9rq7saTBy"
      },
      "execution_count": 43,
      "outputs": []
    },
    {
      "cell_type": "code",
      "source": [
        "#one hot encoding\n",
        "from tensorflow.keras.utils import to_categorical\n",
        "y_train  = to_categorical(y_train  , 10)\n",
        "y_test = to_categorical(y_test , 10)"
      ],
      "metadata": {
        "id": "78e5HuNca9iW"
      },
      "execution_count": 44,
      "outputs": []
    },
    {
      "cell_type": "code",
      "source": [
        "#build conv model\n",
        "from tensorflow.keras.layers import Dense, Flatten\n",
        "from tensorflow.keras.layers import Convolution2D, Conv2D, MaxPooling2D\n",
        "model2 = Sequential(\n",
        "    [\n",
        "       Conv2D( 32, (3,3), activation ='relu', input_shape=(28,28,1) ),\n",
        "       MaxPooling2D(2,2),\n",
        "       Conv2D( 32, (3,3), activation ='relu'),\n",
        "       MaxPooling2D(2,2),\n",
        "       Flatten(),\n",
        "       Dense(128, activation ='relu'),\n",
        "       Dense(10, activation ='softmax'),\n",
        "     ]\n",
        ")"
      ],
      "metadata": {
        "id": "aDt_3Z00XUmM"
      },
      "execution_count": 45,
      "outputs": []
    },
    {
      "cell_type": "code",
      "source": [
        "#compile model\n",
        "model2.compile(optimizer = 'adam',\n",
        "              loss = 'categorical_crossentropy',\n",
        "              metrics = ['accuracy'],)"
      ],
      "metadata": {
        "id": "CbeSM4leXUkH"
      },
      "execution_count": 46,
      "outputs": []
    },
    {
      "cell_type": "code",
      "source": [
        "# traina nd fit the model\n",
        "\n",
        "model2.fit(\n",
        "\n",
        "          x_train, y_train,\n",
        "          epochs = 5 ,\n",
        "          batch_size = 32,\n",
        ")"
      ],
      "metadata": {
        "colab": {
          "base_uri": "https://localhost:8080/"
        },
        "id": "tpX-VeOUXUhx",
        "outputId": "323c0944-a5b1-4d15-851b-924b6ec8c68b"
      },
      "execution_count": 47,
      "outputs": [
        {
          "output_type": "stream",
          "name": "stdout",
          "text": [
            "Epoch 1/5\n",
            "1875/1875 [==============================] - 40s 21ms/step - loss: 0.1468 - accuracy: 0.9552\n",
            "Epoch 2/5\n",
            "1875/1875 [==============================] - 41s 22ms/step - loss: 0.0459 - accuracy: 0.9857\n",
            "Epoch 3/5\n",
            "1875/1875 [==============================] - 39s 21ms/step - loss: 0.0332 - accuracy: 0.9896\n",
            "Epoch 4/5\n",
            "1875/1875 [==============================] - 37s 20ms/step - loss: 0.0242 - accuracy: 0.9919\n",
            "Epoch 5/5\n",
            "1875/1875 [==============================] - 38s 20ms/step - loss: 0.0178 - accuracy: 0.9945\n"
          ]
        },
        {
          "output_type": "execute_result",
          "data": {
            "text/plain": [
              "<keras.src.callbacks.History at 0x7ac7ac297520>"
            ]
          },
          "metadata": {},
          "execution_count": 47
        }
      ]
    },
    {
      "cell_type": "code",
      "source": [
        "#evalute model\n",
        "model2.evaluate(x_test ,\n",
        "               y_test )"
      ],
      "metadata": {
        "colab": {
          "base_uri": "https://localhost:8080/"
        },
        "id": "54y9FtdUXUe5",
        "outputId": "ac00cc3c-f5c8-4b63-8cff-2358f0c5db4c"
      },
      "execution_count": 49,
      "outputs": [
        {
          "output_type": "stream",
          "name": "stdout",
          "text": [
            "313/313 [==============================] - 2s 6ms/step - loss: 0.0357 - accuracy: 0.9894\n"
          ]
        },
        {
          "output_type": "execute_result",
          "data": {
            "text/plain": [
              "[0.035699114203453064, 0.9894000291824341]"
            ]
          },
          "metadata": {},
          "execution_count": 49
        }
      ]
    },
    {
      "cell_type": "code",
      "source": [
        "# deep neural networks\n",
        "\n",
        "#CNN\n",
        "( x_train2, y_train2) , (x_test2, y_test2) =  imdb.load_data(num_words = 10000)\n"
      ],
      "metadata": {
        "id": "DUP4BHbKXUcT"
      },
      "execution_count": 60,
      "outputs": []
    },
    {
      "cell_type": "code",
      "source": [
        "from tensorflow.keras.preprocessing.sequence import pad_sequences\n",
        "x_train2 = pad_sequences(x_train2 , maxlen=200)\n",
        "x_test2 = pad_sequences(x_test2 , maxlen=200)\n"
      ],
      "metadata": {
        "id": "cGcV5zIcXUQ7"
      },
      "execution_count": 61,
      "outputs": []
    },
    {
      "cell_type": "code",
      "source": [
        "#build DNN model\n",
        "\n",
        "\n",
        "from tensorflow.keras.layers import Embedding, LSTM\n",
        "from tensorflow.keras.layers import Convolution2D, Conv2D, MaxPooling2D\n",
        "model3 = Sequential(\n",
        "    [\n",
        "       Embedding(10000, 128),\n",
        "       LSTM(128, dropout =0.2, recurrent_dropout = 0.2),\n",
        "       Dense(128, activation ='relu'),\n",
        "       Dense(1, activation ='sigmoid')\n",
        "     ]\n",
        ")"
      ],
      "metadata": {
        "id": "W3NTHUyZfHow"
      },
      "execution_count": 62,
      "outputs": []
    },
    {
      "cell_type": "code",
      "source": [
        "#compile model\n",
        "model3.compile(optimizer = 'adam',\n",
        "              loss = 'binary_crossentropy',\n",
        "              metrics = ['accuracy'],)"
      ],
      "metadata": {
        "id": "egJZZVLqfHJi"
      },
      "execution_count": 63,
      "outputs": []
    },
    {
      "cell_type": "code",
      "source": [
        "# traina nd fit the model\n",
        "\n",
        "model3.fit(\n",
        "\n",
        "          x_train2, y_train2,\n",
        "          epochs = 5 ,\n",
        "          batch_size = 64,\n",
        ")"
      ],
      "metadata": {
        "colab": {
          "base_uri": "https://localhost:8080/"
        },
        "id": "X5-cyqQcga2v",
        "outputId": "2af5b822-6741-449e-84fe-61d0a875d1fa"
      },
      "execution_count": 65,
      "outputs": [
        {
          "output_type": "stream",
          "name": "stdout",
          "text": [
            "Epoch 1/5\n",
            "391/391 [==============================] - 278s 711ms/step - loss: 0.0818 - accuracy: 0.9710\n",
            "Epoch 2/5\n",
            "391/391 [==============================] - 274s 701ms/step - loss: 0.0666 - accuracy: 0.9762\n",
            "Epoch 3/5\n",
            "391/391 [==============================] - 274s 700ms/step - loss: 0.0556 - accuracy: 0.9818\n",
            "Epoch 4/5\n",
            "391/391 [==============================] - 276s 706ms/step - loss: 0.0624 - accuracy: 0.9790\n",
            "Epoch 5/5\n",
            "391/391 [==============================] - 274s 701ms/step - loss: 0.0418 - accuracy: 0.9864\n"
          ]
        },
        {
          "output_type": "execute_result",
          "data": {
            "text/plain": [
              "<keras.src.callbacks.History at 0x7ac7a763e980>"
            ]
          },
          "metadata": {},
          "execution_count": 65
        }
      ]
    },
    {
      "cell_type": "code",
      "source": [
        "#evalute model\n",
        "model3.evaluate(x_test2 ,\n",
        "               y_test2 )"
      ],
      "metadata": {
        "colab": {
          "base_uri": "https://localhost:8080/"
        },
        "id": "Qr7v4Dcsgadu",
        "outputId": "aac85200-b65f-4696-cbb2-67ad3458252c"
      },
      "execution_count": 66,
      "outputs": [
        {
          "output_type": "stream",
          "name": "stdout",
          "text": [
            "782/782 [==============================] - 57s 73ms/step - loss: 0.6607 - accuracy: 0.8454\n"
          ]
        },
        {
          "output_type": "execute_result",
          "data": {
            "text/plain": [
              "[0.6607451438903809, 0.8454399704933167]"
            ]
          },
          "metadata": {},
          "execution_count": 66
        }
      ]
    }
  ]
}